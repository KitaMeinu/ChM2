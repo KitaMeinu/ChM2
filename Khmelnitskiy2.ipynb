{
 "cells": [
  {
   "cell_type": "code",
   "execution_count": 1,
   "metadata": {},
   "outputs": [],
   "source": [
    "#задание 2.1.26\n",
    "import numpy as np\n",
    "import matplotlib.pyplot as plt\n",
    "from scipy import optimize"
   ]
  },
  {
   "cell_type": "code",
   "execution_count": 2,
   "metadata": {},
   "outputs": [
    {
     "data": {
      "image/png": "[encoded data removed]",
      "text/plain": [
       "<Figure size 432x288 with 1 Axes>"
      ]
     },
     "metadata": {},
     "output_type": "display_data"
    }
   ],
   "source": [
    "#локализуем корни уравнения f(x)=0 графически\n",
    "x = np.arange(-0.5, 1.5, 0.01)\n",
    "y = np.tan(x)**2-(7/4)*np.tan(x)-(1/2)\n",
    "\n",
    "plt.plot(x,y)\n",
    "plt.plot(x, x*0, 'k')\n",
    "plt.grid(True)\n",
    "plt.show()"
   ]
  },
  {
   "cell_type": "code",
   "execution_count": null,
   "metadata": {},
   "outputs": [],
   "source": []
  },
  {
   "cell_type": "code",
   "execution_count": 3,
   "metadata": {},
   "outputs": [
    {
     "name": "stdout",
     "output_type": "stream",
     "text": [
      "x1 = -0.2449786632, количество итераций = 32\n",
      "x2 = 1.1071487178, количество итераций = 32\n"
     ]
    }
   ],
   "source": [
    "#найдем корни уравнения f(x)=0 с точностью ε методом бисекции\n",
    "import numpy as np\n",
    "import matplotlib.pyplot as plt\n",
    "from scipy import optimize\n",
    "\n",
    "def f(x):\n",
    "    return (np.tan(x))**2-(7/4)*np.tan(x)-(1/2)\n",
    "\n",
    "def bisec(f,a,b,eps):\n",
    "    a_n = a\n",
    "    b_n = b\n",
    "    k=0\n",
    "    while (b_n - a_n)/2 > eps:\n",
    "        x_n = (a_n + b_n) / 2\n",
    "        if f(a_n) * f(x_n) <= 0:\n",
    "            b_n = x_n\n",
    "        else: \n",
    "            a_n = x_n\n",
    "        k += 1\n",
    "    return (a_n + b_n)/2,k\n",
    "\n",
    "\n",
    "print('x1 = %.10f, количество итераций = %d'\n",
    "%bisec(f, -0.5, 0.25, 10**(-10)))\n",
    "print('x2 = %.10f, количество итераций = %d'\n",
    "%bisec(f, 0.75, 1.25, 10**(-10)))"
   ]
  },
  {
   "cell_type": "code",
   "execution_count": 4,
   "metadata": {},
   "outputs": [
    {
     "name": "stdout",
     "output_type": "stream",
     "text": [
      "x1 = -0.2449786632\n",
      "x2 = 1.1071487178\n"
     ]
    }
   ],
   "source": [
    "#найдём корни уравнения с точностью ε,используя функцию root\n",
    "root = optimize.root(f, [-0.5,1.5]).x.tolist()\n",
    "print('x1 = %.10f' %(float(root[0])))\n",
    "print('x2 = %.10f' %(float(root[1])))"
   ]
  },
  {
   "cell_type": "code",
   "execution_count": 5,
   "metadata": {},
   "outputs": [
    {
     "data": {
      "image/png": "[encoded data removed]",
      "text/plain": [
       "<Figure size 432x288 with 1 Axes>"
      ]
     },
     "metadata": {},
     "output_type": "display_data"
    }
   ],
   "source": [
    "#локализуем корни уравнения g(x)=0 графически\n",
    "import numpy as np\n",
    "import matplotlib.pyplot as plt\n",
    "from scipy import optimize\n",
    "\n",
    "x = np.arange(-0.5, 1.5, 0.01)\n",
    "y = (np.tan(x))**2+(1/2)*np.tan(x)+(1/16)\n",
    "\n",
    "plt.plot(x,y)\n",
    "plt.plot(x, x*0, 'k')\n",
    "plt.grid(True)\n",
    "plt.show()"
   ]
  },
  {
   "cell_type": "code",
   "execution_count": 6,
   "metadata": {},
   "outputs": [
    {
     "name": "stdout",
     "output_type": "stream",
     "text": [
      "x = 1.4999999999, количество итераций = 34\n"
     ]
    }
   ],
   "source": [
    "#найдем корни уравнения g(x)=0 с точностью ε методом бисекции\n",
    "import numpy as np\n",
    "import matplotlib.pyplot as plt\n",
    "from scipy import optimize\n",
    "\n",
    "def g(x):\n",
    "    return (np.tan(x))**2+(1/2)*np.tan(x)+(1/16)\n",
    "\n",
    "def bisec(g,a,b,eps):\n",
    "    a_n = a\n",
    "    b_n = b\n",
    "    k=0\n",
    "    while (b_n - a_n)/2 > eps:\n",
    "        x_n = (a_n + b_n) / 2\n",
    "        if g(a_n) * g(x_n) <= 0:\n",
    "            b_n = x_n\n",
    "        else: \n",
    "            a_n = x_n\n",
    "        k += 1\n",
    "    return (a_n + b_n)/2,k\n",
    "\n",
    "\n",
    "print('x = %.10f, количество итераций = %d'\n",
    "%bisec(g, -0.5, 1.5, 10**(-10)))"
   ]
  },
  {
   "cell_type": "code",
   "execution_count": 7,
   "metadata": {},
   "outputs": [
    {
     "name": "stdout",
     "output_type": "stream",
     "text": [
      "x = -0.2449786650\n"
     ]
    }
   ],
   "source": [
    "#найдём корни уравнения с точностью ε, используя функцию root\n",
    "root = optimize.root(g, [-0.5,1.5]).x.tolist()\n",
    "print('x = %.10f' %(float(root[0])))"
   ]
  },
  {
   "cell_type": "code",
   "execution_count": 4,
   "metadata": {},
   "outputs": [
    {
     "data": {
      "image/png": "[encoded data removed]",
      "text/plain": [
       "<Figure size 432x288 with 1 Axes>"
      ]
     },
     "metadata": {},
     "output_type": "display_data"
    }
   ],
   "source": [
    "#задание 2.2\n",
    "import numpy as np\n",
    "import matplotlib.pyplot as plt\n",
    "from scipy import optimize\n",
    "\n",
    "def f(x):\n",
    "    return np.exp(-x)-2+x**2\n",
    "\n",
    "x = np.arange(-2, 0, 0.01)\n",
    "y = []\n",
    "for i in x:\n",
    "    y.append(f(i))\n",
    "y = np.array(y)\n",
    "plt.plot(x,y, color='r')\n",
    "plt.plot(x, np.zeros(len(x)))\n",
    "plt.grid(True)"
   ]
  },
  {
   "cell_type": "code",
   "execution_count": null,
   "metadata": {},
   "outputs": [],
   "source": []
  },
  {
   "cell_type": "code",
   "execution_count": 7,
   "metadata": {},
   "outputs": [
    {
     "name": "stdout",
     "output_type": "stream",
     "text": [
      "x = -0.537274, количество итераций = 18\n"
     ]
    }
   ],
   "source": [
    "def f(x):\n",
    "    return np.exp(-x)+x**2-2\n",
    "def bisec(f, a, b, eps):\n",
    "    a_n = a\n",
    "    b_n = b\n",
    "    k = 0\n",
    "    while(b_n - a_n)/2 > eps:\n",
    "        x_n = (a_n + b_n) / 2\n",
    "        if f(a_n)*f(x_n) <= 0:\n",
    "            b_n = x_n\n",
    "        else:\n",
    "            a_n = x_n\n",
    "        k += 1\n",
    "    return(a_n + b_n)/2, k\n",
    "print('x = %.6f, количество итераций = %d'\n",
    "%bisec(f,-0.75, -0.25, 10**(-6)))"
   ]
  },
  {
   "cell_type": "code",
   "execution_count": 8,
   "metadata": {},
   "outputs": [
    {
     "name": "stdout",
     "output_type": "stream",
     "text": [
      "x = -0.537274, количество итераций = 8\n"
     ]
    }
   ],
   "source": [
    "def d_f(x):\n",
    "    return -np.exp(-x)+np.exp(x**2) - 2\n",
    "def Newton(x0,f, d_f, eps):\n",
    "    k = 0\n",
    "    while True:\n",
    "        x1 = x0 - f(x0)/d_f(x0)\n",
    "        k +=1\n",
    "        if abs(x1-x0) < eps:\n",
    "            return x1, k\n",
    "        x0 = x1\n",
    "        \n",
    "print('x = %.6f, количество итераций = %d'\n",
    "%Newton(-0.5, f, d_f, 10**(-6)))"
   ]
  },
  {
   "cell_type": "code",
   "execution_count": 11,
   "metadata": {},
   "outputs": [],
   "source": [
    "#задание 2.3.1\n",
    "import numpy as np\n",
    "import matplotlib.pyplot as plt"
   ]
  },
  {
   "cell_type": "code",
   "execution_count": 19,
   "metadata": {},
   "outputs": [],
   "source": [
    "def f(x):\n",
    "    return np.sin(x) + 2*x**2+4*x\n",
    "\n",
    "def d_f(x):\n",
    "    return np.cos(x)+4*x+4\n",
    "\n",
    "def p1(x, a):\n",
    "    return x-a*f(x)\n",
    "\n",
    "def d_p1(x, a):\n",
    "    return 1-a*d_f(x)\n",
    "\n",
    "def p2(x, x0):\n",
    "    return x - f(x)/d_f(x0)\n",
    "\n",
    "def d_p2(x, x0):\n",
    "    return 1 - d_f(x)/d_f(x0)\n",
    "\n",
    "def simple_first(x0, p1, eps, q, a):\n",
    "    k = 0\n",
    "    xn_1 = x0\n",
    "    xn = p1(xn_1, a)\n",
    "    while abs(xn - xn_1)>=((1-q)/q)*eps:\n",
    "        xn_1 = xn\n",
    "        xn = p1(xn_1, a)\n",
    "        k += 1\n",
    "    return xn, k\n",
    "\n",
    "def simple_second(x0, p2, eps, q):\n",
    "    k = 0\n",
    "    xn_1 = x0\n",
    "    xn = p2(xn_1, x0)\n",
    "    while abs(xn-xn_1)>=((1-q)/q)*eps:\n",
    "        xn_1 = xn\n",
    "        xn = p2(xn_1, x0)\n",
    "        k += 1\n",
    "    return xn, k"
   ]
  },
  {
   "cell_type": "code",
   "execution_count": 20,
   "metadata": {},
   "outputs": [
    {
     "data": {
      "image/png": "[encoded data removed]",
      "text/plain": [
       "<Figure size 432x288 with 1 Axes>"
      ]
     },
     "metadata": {},
     "output_type": "display_data"
    }
   ],
   "source": [
    "x = np.arange(-0.999, 0.999, 0.001)\n",
    "y = f(x)\n",
    "plt.plot(x,y)\n",
    "plt.plot(x, x*0, 'k')\n",
    "plt.grid(True)\n",
    "plt.show()"
   ]
  },
  {
   "cell_type": "code",
   "execution_count": 21,
   "metadata": {},
   "outputs": [
    {
     "data": {
      "image/png": "[encoded data removed]",
      "text/plain": [
       "<Figure size 432x288 with 1 Axes>"
      ]
     },
     "metadata": {},
     "output_type": "display_data"
    }
   ],
   "source": [
    "x1 = np.arange(-0.25, 0.75, 0.001)\n",
    "y1 = d_f(x1)\n",
    "plt.plot(x1, y1)\n",
    "plt.plot(x1,x1*0,'k')\n",
    "plt.grid(True)\n",
    "plt.show()"
   ]
  },
  {
   "cell_type": "code",
   "execution_count": null,
   "metadata": {},
   "outputs": [],
   "source": []
  },
  {
   "cell_type": "code",
   "execution_count": 22,
   "metadata": {},
   "outputs": [
    {
     "data": {
      "text/plain": [
       "(-3.9689124217106446,\n",
       " -7.731688868873821,\n",
       " -0.1709313863732294,\n",
       " 0.32158829736306815)"
      ]
     },
     "execution_count": 22,
     "metadata": {},
     "output_type": "execute_result"
    }
   ],
   "source": [
    "m1 = -d_f(-0.25)\n",
    "M1 = -d_f(0.75)\n",
    "a1 = 2/(m1+M1)\n",
    "q1 = (M1-m1)/(M1+m1)\n",
    "m1, M1, a1, q1"
   ]
  },
  {
   "cell_type": "code",
   "execution_count": 23,
   "metadata": {},
   "outputs": [
    {
     "name": "stdout",
     "output_type": "stream",
     "text": [
      "x = 0.00000, количество итераций = 5\n"
     ]
    }
   ],
   "source": [
    "print ('x = %.5f, количество итераций = %d'\n",
    "%simple_first(0.25, p1, 10**(-5), q1, -a1))"
   ]
  },
  {
   "cell_type": "code",
   "execution_count": null,
   "metadata": {},
   "outputs": [],
   "source": []
  },
  {
   "cell_type": "code",
   "execution_count": 24,
   "metadata": {},
   "outputs": [
    {
     "data": {
      "image/png": "[encoded data removed]",
      "text/plain": [
       "<Figure size 432x288 with 1 Axes>"
      ]
     },
     "metadata": {},
     "output_type": "display_data"
    }
   ],
   "source": [
    "x3 = np.arange(-0.25, 0.75, 0.001)\n",
    "y3 = d_p2(x3, 0.25)\n",
    "plt.plot(x3, y3)\n",
    "plt.plot(x3, x3*0, 'k')\n",
    "plt.grid(True)\n",
    "plt.show()"
   ]
  },
  {
   "cell_type": "code",
   "execution_count": 25,
   "metadata": {},
   "outputs": [
    {
     "data": {
      "text/plain": [
       "0.3350694161176544"
      ]
     },
     "execution_count": 25,
     "metadata": {},
     "output_type": "execute_result"
    }
   ],
   "source": [
    "q3=np.amax(abs(y3))\n",
    "q3"
   ]
  },
  {
   "cell_type": "code",
   "execution_count": null,
   "metadata": {},
   "outputs": [],
   "source": []
  }
 ],
 "metadata": {
  "kernelspec": {
   "display_name": "Python 3",
   "language": "python",
   "name": "python3"
  },
  "language_info": {
   "codemirror_mode": {
    "name": "ipython",
    "version": 3
   },
   "file_extension": ".py",
   "mimetype": "text/x-python",
   "name": "python",
   "nbconvert_exporter": "python",
   "pygments_lexer": "ipython3",
   "version": "3.6.5"
  }
 },
 "nbformat": 4,
 "nbformat_minor": 2
}
