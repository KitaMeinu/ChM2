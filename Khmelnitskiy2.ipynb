{
 "cells": [
  {
   "cell_type": "code",
   "execution_count": 1,
   "metadata": {},
   "outputs": [],
   "source": [
    "#задание 2.1.26\n",
    "import numpy as np\n",
    "import matplotlib.pyplot as plt\n",
    "from scipy import optimize"
   ]
  },
  {
   "cell_type": "code",
   "execution_count": 2,
   "metadata": {},
   "outputs": [
    {
     "data": {
      "image/png": "[encoded data removed]",
      "text/plain": [
       "<Figure size 432x288 with 1 Axes>"
      ]
     },
     "metadata": {},
     "output_type": "display_data"
    }
   ],
   "source": [
    "#локализуем корни уравнения f(x)=0 графически\n",
    "x = np.arange(-0.5, 1.5, 0.01)\n",
    "y = np.tan(x)**2-(7/4)*np.tan(x)-(1/2)\n",
    "\n",
    "plt.plot(x,y)\n",
    "plt.plot(x, x*0, 'k')\n",
    "plt.grid(True)\n",
    "plt.show()"
   ]
  },
  {
   "cell_type": "code",
   "execution_count": null,
   "metadata": {},
   "outputs": [],
   "source": []
  },
  {
   "cell_type": "code",
   "execution_count": 3,
   "metadata": {},
   "outputs": [
    {
     "name": "stdout",
     "output_type": "stream",
     "text": [
      "x1 = -0.2449786632, количество итераций = 32\n",
      "x2 = 1.1071487178, количество итераций = 32\n"
     ]
    }
   ],
   "source": [
    "#найдем корни уравнения f(x)=0 с точностью ε методом бисекции\n",
    "import numpy as np\n",
    "import matplotlib.pyplot as plt\n",
    "from scipy import optimize\n",
    "\n",
    "def f(x):\n",
    "    return (np.tan(x))**2-(7/4)*np.tan(x)-(1/2)\n",
    "\n",
    "def bisec(f,a,b,eps):\n",
    "    a_n = a\n",
    "    b_n = b\n",
    "    k=0\n",
    "    while (b_n - a_n)/2 > eps:\n",
    "        x_n = (a_n + b_n) / 2\n",
    "        if f(a_n) * f(x_n) <= 0:\n",
    "            b_n = x_n\n",
    "        else: \n",
    "            a_n = x_n\n",
    "        k += 1\n",
    "    return (a_n + b_n)/2,k\n",
    "\n",
    "\n",
    "print('x1 = %.10f, количество итераций = %d'\n",
    "%bisec(f, -0.5, 0.25, 10**(-10)))\n",
    "print('x2 = %.10f, количество итераций = %d'\n",
    "%bisec(f, 0.75, 1.25, 10**(-10)))"
   ]
  },
  {
   "cell_type": "code",
   "execution_count": 4,
   "metadata": {},
   "outputs": [
    {
     "name": "stdout",
     "output_type": "stream",
     "text": [
      "x1 = -0.2449786632\n",
      "x2 = 1.1071487178\n"
     ]
    }
   ],
   "source": [
    "#найдём корни уравнения с точностью ε,используя функцию root\n",
    "root = optimize.root(f, [-0.5,1.5]).x.tolist()\n",
    "print('x1 = %.10f' %(float(root[0])))\n",
    "print('x2 = %.10f' %(float(root[1])))"
   ]
  },
  {
   "cell_type": "code",
   "execution_count": 5,
   "metadata": {},
   "outputs": [
    {
     "data": {
      "image/png": "[encoded data removed]",
      "text/plain": [
       "<Figure size 432x288 with 1 Axes>"
      ]
     },
     "metadata": {},
     "output_type": "display_data"
    }
   ],
   "source": [
    "#локализуем корни уравнения g(x)=0 графически\n",
    "import numpy as np\n",
    "import matplotlib.pyplot as plt\n",
    "from scipy import optimize\n",
    "\n",
    "x = np.arange(-0.5, 1.5, 0.01)\n",
    "y = (np.tan(x))**2+(1/2)*np.tan(x)+(1/16)\n",
    "\n",
    "plt.plot(x,y)\n",
    "plt.plot(x, x*0, 'k')\n",
    "plt.grid(True)\n",
    "plt.show()"
   ]
  },
  {
   "cell_type": "code",
   "execution_count": 6,
   "metadata": {},
   "outputs": [
    {
     "name": "stdout",
     "output_type": "stream",
     "text": [
      "x = 1.4999999999, количество итераций = 34\n"
     ]
    }
   ],
   "source": [
    "#найдем корни уравнения g(x)=0 с точностью ε методом бисекции\n",
    "import numpy as np\n",
    "import matplotlib.pyplot as plt\n",
    "from scipy import optimize\n",
    "\n",
    "def g(x):\n",
    "    return (np.tan(x))**2+(1/2)*np.tan(x)+(1/16)\n",
    "\n",
    "def bisec(g,a,b,eps):\n",
    "    a_n = a\n",
    "    b_n = b\n",
    "    k=0\n",
    "    while (b_n - a_n)/2 > eps:\n",
    "        x_n = (a_n + b_n) / 2\n",
    "        if g(a_n) * g(x_n) <= 0:\n",
    "            b_n = x_n\n",
    "        else: \n",
    "            a_n = x_n\n",
    "        k += 1\n",
    "    return (a_n + b_n)/2,k\n",
    "\n",
    "\n",
    "print('x = %.10f, количество итераций = %d'\n",
    "%bisec(g, -0.5, 1.5, 10**(-10)))"
   ]
  },
  {
   "cell_type": "code",
   "execution_count": 7,
   "metadata": {},
   "outputs": [
    {
     "name": "stdout",
     "output_type": "stream",
     "text": [
      "x = -0.2449786650\n"
     ]
    }
   ],
   "source": [
    "#найдём корни уравнения с точностью ε, используя функцию root\n",
    "root = optimize.root(g, [-0.5,1.5]).x.tolist()\n",
    "print('x = %.10f' %(float(root[0])))"
   ]
  }
 ],
 "metadata": {
  "kernelspec": {
   "display_name": "Python 3",
   "language": "python",
   "name": "python3"
  },
  "language_info": {
   "codemirror_mode": {
    "name": "ipython",
    "version": 3
   },
   "file_extension": ".py",
   "mimetype": "text/x-python",
   "name": "python",
   "nbconvert_exporter": "python",
   "pygments_lexer": "ipython3",
   "version": "3.6.7"
  }
 },
 "nbformat": 4,
 "nbformat_minor": 2
}
